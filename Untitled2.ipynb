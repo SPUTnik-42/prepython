{
 "cells": [
  {
   "cell_type": "code",
   "execution_count": 11,
   "metadata": {},
   "outputs": [],
   "source": [
    "def buy_houses(budget,*args):\n",
    "    houses = []\n",
    "    for i in args :\n",
    "        if i < budget:\n",
    "            houses.append(i)\n",
    "        else:\n",
    "            pass\n",
    "    \n",
    "    houses.sort()\n",
    "    money = budget\n",
    "    my_house = []\n",
    "    for s in houses:\n",
    "        while money != 0 :\n",
    "            if money < s :\n",
    "                pass\n",
    "            else:\n",
    "                money -= s\n",
    "                my_house.append(s)\n",
    "            \n",
    "    \n",
    "    \n",
    "    return len(my_house)\n",
    "        \n",
    "        "
   ]
  },
  {
   "cell_type": "code",
   "execution_count": 14,
   "metadata": {},
   "outputs": [
    {
     "ename": "SyntaxError",
     "evalue": "positional argument follows keyword argument (<ipython-input-14-158ec36ac371>, line 1)",
     "output_type": "error",
     "traceback": [
      "\u001b[1;36m  File \u001b[1;32m\"<ipython-input-14-158ec36ac371>\"\u001b[1;36m, line \u001b[1;32m1\u001b[0m\n\u001b[1;33m    buy_houses(budget = 100 ,[20,90,40,90])\u001b[0m\n\u001b[1;37m                            ^\u001b[0m\n\u001b[1;31mSyntaxError\u001b[0m\u001b[1;31m:\u001b[0m positional argument follows keyword argument\n"
     ]
    }
   ],
   "source": [
    "buy_houses(budget = 100 ,[20,90,40,90])"
   ]
  },
  {
   "cell_type": "code",
   "execution_count": 2,
   "metadata": {},
   "outputs": [
    {
     "name": "stdout",
     "output_type": "stream",
     "text": [
      "LETS PLAY GUESS THE NUMBER\n",
      "I AM THINKING OF A NUMBER BETWEEN 0 AND 20\n",
      "YOU HAVE INFINITE CHANCES \n",
      "NOW , GUESS THE NUMBER3\n"
     ]
    },
    {
     "ename": "AttributeError",
     "evalue": "'str' object has no attribute 'isapla'",
     "output_type": "error",
     "traceback": [
      "\u001b[1;31m---------------------------------------------------------------------------\u001b[0m",
      "\u001b[1;31mAttributeError\u001b[0m                            Traceback (most recent call last)",
      "\u001b[1;32m<ipython-input-2-1d130af3feda>\u001b[0m in \u001b[0;36m<module>\u001b[1;34m\u001b[0m\n\u001b[0;32m     44\u001b[0m \u001b[1;33m\u001b[0m\u001b[0m\n\u001b[0;32m     45\u001b[0m \u001b[1;32mif\u001b[0m \u001b[0m__name__\u001b[0m \u001b[1;33m==\u001b[0m \u001b[1;34m\"__main__\"\u001b[0m \u001b[1;33m:\u001b[0m\u001b[1;33m\u001b[0m\u001b[1;33m\u001b[0m\u001b[0m\n\u001b[1;32m---> 46\u001b[1;33m         \u001b[0mmain\u001b[0m\u001b[1;33m(\u001b[0m\u001b[1;33m)\u001b[0m\u001b[1;33m\u001b[0m\u001b[1;33m\u001b[0m\u001b[0m\n\u001b[0m",
      "\u001b[1;32m<ipython-input-2-1d130af3feda>\u001b[0m in \u001b[0;36mmain\u001b[1;34m()\u001b[0m\n\u001b[0;32m     37\u001b[0m \u001b[1;32mdef\u001b[0m \u001b[0mmain\u001b[0m\u001b[1;33m(\u001b[0m\u001b[1;33m)\u001b[0m\u001b[1;33m:\u001b[0m\u001b[1;33m\u001b[0m\u001b[1;33m\u001b[0m\u001b[0m\n\u001b[0;32m     38\u001b[0m         \u001b[0mnum\u001b[0m \u001b[1;33m=\u001b[0m \u001b[0mget_num\u001b[0m\u001b[1;33m(\u001b[0m\u001b[1;33m)\u001b[0m\u001b[1;33m\u001b[0m\u001b[1;33m\u001b[0m\u001b[0m\n\u001b[1;32m---> 39\u001b[1;33m         \u001b[0mplay\u001b[0m\u001b[1;33m(\u001b[0m\u001b[0mnum\u001b[0m\u001b[1;33m)\u001b[0m\u001b[1;33m\u001b[0m\u001b[1;33m\u001b[0m\u001b[0m\n\u001b[0m\u001b[0;32m     40\u001b[0m         \u001b[1;32mwhile\u001b[0m \u001b[0minput\u001b[0m\u001b[1;33m(\u001b[0m\u001b[1;34m\"Play Again? (Y/N) \"\u001b[0m\u001b[1;33m)\u001b[0m\u001b[1;33m.\u001b[0m\u001b[0mupper\u001b[0m\u001b[1;33m(\u001b[0m\u001b[1;33m)\u001b[0m \u001b[1;33m==\u001b[0m \u001b[1;34m\"Y\"\u001b[0m\u001b[1;33m:\u001b[0m\u001b[1;33m\u001b[0m\u001b[1;33m\u001b[0m\u001b[0m\n\u001b[0;32m     41\u001b[0m                 \u001b[0mnum\u001b[0m \u001b[1;33m=\u001b[0m \u001b[0mget_num\u001b[0m\u001b[1;33m(\u001b[0m\u001b[1;33m)\u001b[0m\u001b[1;33m\u001b[0m\u001b[1;33m\u001b[0m\u001b[0m\n",
      "\u001b[1;32m<ipython-input-2-1d130af3feda>\u001b[0m in \u001b[0;36mplay\u001b[1;34m(num)\u001b[0m\n\u001b[0;32m     16\u001b[0m         \u001b[1;32mwhile\u001b[0m \u001b[1;32mnot\u001b[0m \u001b[0mguessed\u001b[0m\u001b[1;33m:\u001b[0m\u001b[1;33m\u001b[0m\u001b[1;33m\u001b[0m\u001b[0m\n\u001b[0;32m     17\u001b[0m                 \u001b[0mguess\u001b[0m \u001b[1;33m=\u001b[0m \u001b[0minput\u001b[0m\u001b[1;33m(\u001b[0m\u001b[1;34m\"NOW , GUESS THE NUMBER\"\u001b[0m\u001b[1;33m)\u001b[0m\u001b[1;33m\u001b[0m\u001b[1;33m\u001b[0m\u001b[0m\n\u001b[1;32m---> 18\u001b[1;33m                 \u001b[1;32mif\u001b[0m \u001b[0mguess\u001b[0m\u001b[1;33m.\u001b[0m\u001b[0misapla\u001b[0m\u001b[1;33m(\u001b[0m\u001b[1;33m)\u001b[0m \u001b[1;32mor\u001b[0m \u001b[0mguess\u001b[0m \u001b[1;32mnot\u001b[0m \u001b[1;32min\u001b[0m \u001b[0mrange\u001b[0m\u001b[1;33m(\u001b[0m\u001b[1;36m0\u001b[0m\u001b[1;33m,\u001b[0m\u001b[1;36m20\u001b[0m\u001b[1;33m)\u001b[0m\u001b[1;33m:\u001b[0m\u001b[1;33m\u001b[0m\u001b[1;33m\u001b[0m\u001b[0m\n\u001b[0m\u001b[0;32m     19\u001b[0m                         \u001b[0mprint\u001b[0m\u001b[1;33m(\u001b[0m\u001b[1;34m\"THIS IS NOT A VALID ANSWER \"\u001b[0m\u001b[1;33m)\u001b[0m\u001b[1;33m\u001b[0m\u001b[1;33m\u001b[0m\u001b[0m\n\u001b[0;32m     20\u001b[0m                 \u001b[1;32melif\u001b[0m \u001b[0mguess\u001b[0m \u001b[1;32mnot\u001b[0m \u001b[1;32min\u001b[0m \u001b[0mguessed_nums\u001b[0m\u001b[1;33m:\u001b[0m\u001b[1;33m\u001b[0m\u001b[1;33m\u001b[0m\u001b[0m\n",
      "\u001b[1;31mAttributeError\u001b[0m: 'str' object has no attribute 'isapla'"
     ]
    }
   ],
   "source": [
    "import random \n",
    "\n",
    "def get_num():\n",
    "\tnum = random.randint(0,20)\n",
    "\treturn num\n",
    "\n",
    "\n",
    "def play(num):\n",
    "\tguessed = False \n",
    "\tguessed_nums = []\n",
    "\tprint(\"LETS PLAY GUESS THE NUMBER\")\n",
    "\tprint(\"I AM THINKING OF A NUMBER BETWEEN 0 AND 20\")\n",
    "\tprint(\"YOU HAVE INFINITE CHANCES \")\n",
    "\n",
    "\n",
    "\twhile not guessed:\n",
    "\t\tguess = input(\"NOW , GUESS THE NUMBER\")\n",
    "\t\tif guess.isapla() or guess not in range(0,20):\n",
    "\t\t\tprint(\"THIS IS NOT A VALID ANSWER \")\n",
    "\t\telif guess not in guessed_nums:\n",
    "\t\t\tguessed_nums.append(guess)\n",
    "\t\t\tif guessed_nums[0] == guess:\n",
    "\t\t\t\tprint(\"HOT\")\n",
    "\t\t\telif guess == num:\n",
    "\t\t\t\tguessed = True \n",
    "\t\t\t\tprint(\"YOU HAVE GUESSED THE NUMBER\")\n",
    "\t\t\telse:\n",
    "\t\t\t\tif num[len(num)] >= guess :\n",
    "\t\t\t\t\tprint(\"HOTTER\")\n",
    "\t\t\t\telse:\n",
    "\t\t\t\t\tprint(\"COLDER\")\n",
    "\t\telse:\n",
    "\t\t\tprint(\"YOU HAVE ALREADY GUESSED THIS NUMBER\")\n",
    "\n",
    "\n",
    "\n",
    "def main():\n",
    "\tnum = get_num()\n",
    "\tplay(num)\n",
    "\twhile input(\"Play Again? (Y/N) \").upper() == \"Y\":\n",
    "\t\tnum = get_num()\n",
    "\t\tplay(num)\n",
    "\n",
    "\n",
    "if __name__ == \"__main__\" :\n",
    "main()"
   ]
  },
  {
   "cell_type": "code",
   "execution_count": null,
   "metadata": {},
   "outputs": [],
   "source": []
  }
 ],
 "metadata": {
  "kernelspec": {
   "display_name": "Python 3",
   "language": "python",
   "name": "python3"
  },
  "language_info": {
   "codemirror_mode": {
    "name": "ipython",
    "version": 3
   },
   "file_extension": ".py",
   "mimetype": "text/x-python",
   "name": "python",
   "nbconvert_exporter": "python",
   "pygments_lexer": "ipython3",
   "version": "3.7.6"
  }
 },
 "nbformat": 4,
 "nbformat_minor": 4
}
