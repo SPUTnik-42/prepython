{
 "cells": [
  {
   "cell_type": "code",
   "execution_count": 78,
   "metadata": {},
   "outputs": [],
   "source": [
    "\"\"\"\n",
    "fibonacci series \n",
    "imput number \n",
    "series till nth number\n",
    "\"\"\"\n",
    "\n",
    "def fib_seq(n):\n",
    "    seq=[0,1,2]\n",
    "    if n == 1:\n",
    "        return [0]\n",
    "    elif n==2:\n",
    "        return [0,1]\n",
    "    elif n==3:\n",
    "        return seq\n",
    "    else:\n",
    "        for i in range(n):\n",
    "            seq.append(seq[-1] + seq[-2])\n",
    "    \n",
    "    for i in range(len(seq)):\n",
    "        seq[i] = str(seq[i])\n",
    "    \n",
    "    return (','.join(seq))\n",
    "    \n",
    "    \n",
    "def input_seq():\n",
    "    result = fib_seq(int(input(\"enter the number till which you want the fibonacci sequence  :\")))\n",
    "    print(result)\n",
    "    \n",
    "    \n",
    "def fib_seq_nth(n):\n",
    "    m = list(fib_seq(n))\n",
    "    result = m[2*n - 2]\n",
    "    print( result)"
   ]
  },
  {
   "cell_type": "code",
   "execution_count": 79,
   "metadata": {},
   "outputs": [
    {
     "name": "stdout",
     "output_type": "stream",
     "text": [
      "enter the number till which you want the fibonacci sequence  :56\n",
      "0,1,2,3,5,8,13,21,34,55,89,144,233,377,610,987,1597,2584,4181,6765,10946,17711,28657,46368,75025,121393,196418,317811,514229,832040,1346269,2178309,3524578,5702887,9227465,14930352,24157817,39088169,63245986,102334155,165580141,267914296,433494437,701408733,1134903170,1836311903,2971215073,4807526976,7778742049,12586269025,20365011074,32951280099,53316291173,86267571272,139583862445,225851433717,365435296162,591286729879,956722026041\n"
     ]
    }
   ],
   "source": [
    "input_seq()\n"
   ]
  },
  {
   "cell_type": "code",
   "execution_count": 80,
   "metadata": {},
   "outputs": [
    {
     "name": "stdout",
     "output_type": "stream",
     "text": [
      "5\n"
     ]
    }
   ],
   "source": [
    "fib_seq_nth(5)"
   ]
  },
  {
   "cell_type": "code",
   "execution_count": 3,
   "metadata": {},
   "outputs": [],
   "source": [
    "memo = []\n",
    "def new_fib_seq(n,memo):\n",
    "    if memo[n] != 0 :\n",
    "        result = memo[n]\n",
    "    elif n == 0 or n ==1 :\n",
    "        return 1\n",
    "    else:\n",
    "        result = new_fib_seq[n-1] + new_fib_seq[n-2]\n",
    "    memo[n] = result\n",
    "    return result"
   ]
  },
  {
   "cell_type": "code",
   "execution_count": 4,
   "metadata": {},
   "outputs": [
    {
     "ename": "TypeError",
     "evalue": "new_fib_seq() missing 1 required positional argument: 'memo'",
     "output_type": "error",
     "traceback": [
      "\u001b[1;31m---------------------------------------------------------------------------\u001b[0m",
      "\u001b[1;31mTypeError\u001b[0m                                 Traceback (most recent call last)",
      "\u001b[1;32m<ipython-input-4-f740286cbc9d>\u001b[0m in \u001b[0;36m<module>\u001b[1;34m\u001b[0m\n\u001b[1;32m----> 1\u001b[1;33m \u001b[0mnew_fib_seq\u001b[0m\u001b[1;33m(\u001b[0m\u001b[1;36m6\u001b[0m\u001b[1;33m)\u001b[0m\u001b[1;33m\u001b[0m\u001b[1;33m\u001b[0m\u001b[0m\n\u001b[0m",
      "\u001b[1;31mTypeError\u001b[0m: new_fib_seq() missing 1 required positional argument: 'memo'"
     ]
    }
   ],
   "source": [
    "new_fib_seq(6)"
   ]
  },
  {
   "cell_type": "code",
   "execution_count": null,
   "metadata": {},
   "outputs": [],
   "source": []
  }
 ],
 "metadata": {
  "kernelspec": {
   "display_name": "Python 3",
   "language": "python",
   "name": "python3"
  },
  "language_info": {
   "codemirror_mode": {
    "name": "ipython",
    "version": 3
   },
   "file_extension": ".py",
   "mimetype": "text/x-python",
   "name": "python",
   "nbconvert_exporter": "python",
   "pygments_lexer": "ipython3",
   "version": "3.7.6"
  }
 },
 "nbformat": 4,
 "nbformat_minor": 4
}
