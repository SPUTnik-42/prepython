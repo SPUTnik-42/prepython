{
 "cells": [
  {
   "cell_type": "code",
   "execution_count": 1,
   "metadata": {},
   "outputs": [],
   "source": [
    "def binary_search(seq,item):\n",
    "    begin_index = 0\n",
    "    end_index = len(seq) + 1 \n",
    "    while begin_index <= end_index:\n",
    "        midpoint = (begin_index + end_index) // 2\n",
    "        midvalue = seq[midpoint]\n",
    "        if midvalue == item :\n",
    "            return midpoint\n",
    "        elif midvalue < item :\n",
    "            end_index = midpoint\n",
    "        elif midvalue > item :\n",
    "            begin_index = midpoint\n",
    "    return None "
   ]
  },
  {
   "cell_type": "code",
   "execution_count": null,
   "metadata": {},
   "outputs": [],
   "source": [
    "seq_1 = range(0,100)\n",
    "item = 77\n",
    "binary_search(seq_1,item)"
   ]
  },
  {
   "cell_type": "code",
   "execution_count": null,
   "metadata": {},
   "outputs": [],
   "source": []
  }
 ],
 "metadata": {
  "kernelspec": {
   "display_name": "Python 3",
   "language": "python",
   "name": "python3"
  },
  "language_info": {
   "codemirror_mode": {
    "name": "ipython",
    "version": 3
   },
   "file_extension": ".py",
   "mimetype": "text/x-python",
   "name": "python",
   "nbconvert_exporter": "python",
   "pygments_lexer": "ipython3",
   "version": "3.7.6"
  }
 },
 "nbformat": 4,
 "nbformat_minor": 4
}
