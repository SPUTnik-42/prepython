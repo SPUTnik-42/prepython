{
 "cells": [
  {
   "cell_type": "code",
   "execution_count": null,
   "metadata": {},
   "outputs": [],
   "source": [
    "p = int(input(\"INPUT THE PRINICIPAL AMOUNT\"))\n",
    "r = int(input(\"INPUT THE RATE\"))\n",
    "t = int(input(\"INPUT THE TIME PERIOD\"))\n",
    "\n",
    "\n",
    "simpleI = (p*r*t)/100\n",
    "\n",
    "print(simpleI)"
   ]
  },
  {
   "cell_type": "code",
   "execution_count": 10,
   "metadata": {},
   "outputs": [
    {
     "name": "stdout",
     "output_type": "stream",
     "text": [
      "INPUT THE lenght45\n",
      "INPUT THEH BREADTH45\n",
      "the area of the rectangle is  2025\n"
     ]
    }
   ],
   "source": [
    "x = int(input(\"INPUT THE lenght\"))\n",
    "y = int(input(\"INPUT THEH BREADTH\"))\n",
    "area = x * y \n",
    "print(\"the area of the rectangle is \",area)\n"
   ]
  },
  {
   "cell_type": "code",
   "execution_count": 22,
   "metadata": {},
   "outputs": [
    {
     "name": "stdout",
     "output_type": "stream",
     "text": [
      "INPUT THE SIDE OF THE TRIANGLE 45\n",
      "INPUT THE SECOND SIDE OF THE TRIANGLE 56\n",
      "INPUT THE THIRD SIDE OF THE TRIANGLE 45\n",
      "the area of the triangle is :\n"
     ]
    },
    {
     "data": {
      "text/plain": [
       "986.3792374132781"
      ]
     },
     "execution_count": 22,
     "metadata": {},
     "output_type": "execute_result"
    }
   ],
   "source": [
    "import math\n",
    "\n",
    "a = int(input(\"INPUT THE SIDE OF THE TRIANGLE \"))\n",
    "b = int(input(\"INPUT THE SECOND SIDE OF THE TRIANGLE \"))\n",
    "c = int(input(\"INPUT THE THIRD SIDE OF THE TRIANGLE \"))\n",
    "s = (a+b+c)/ 2\n",
    "area_heron = s*(s-a)*(s-b)*(s-c)\n",
    "print(\"the area of the triangle is :\")\n",
    "math.sqrt(area_heron)\n"
   ]
  },
  {
   "cell_type": "code",
   "execution_count": null,
   "metadata": {},
   "outputs": [],
   "source": []
  }
 ],
 "metadata": {
  "kernelspec": {
   "display_name": "Python 3",
   "language": "python",
   "name": "python3"
  },
  "language_info": {
   "codemirror_mode": {
    "name": "ipython",
    "version": 3
   },
   "file_extension": ".py",
   "mimetype": "text/x-python",
   "name": "python",
   "nbconvert_exporter": "python",
   "pygments_lexer": "ipython3",
   "version": "3.7.6"
  }
 },
 "nbformat": 4,
 "nbformat_minor": 4
}
